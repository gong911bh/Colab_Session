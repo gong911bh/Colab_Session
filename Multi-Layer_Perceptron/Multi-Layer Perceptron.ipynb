{
 "cells": [
  {
   "cell_type": "code",
   "execution_count": null,
   "metadata": {
    "colab": {
     "base_uri": "https://localhost:8080/"
    },
    "executionInfo": {
     "elapsed": 24617,
     "status": "ok",
     "timestamp": 1684298601323,
     "user": {
      "displayName": "Hongryung Jeon",
      "userId": "09347862182138740427"
     },
     "user_tz": -540
    },
    "id": "5C3M7cIDmlMU",
    "outputId": "46b2aba9-1309-423d-d66f-fcdb2338cc1b"
   },
   "outputs": [
    {
     "name": "stdout",
     "output_type": "stream",
     "text": [
      "Mounted at /content/gdrive\n"
     ]
    }
   ],
   "source": [
    "from google.colab import drive\n",
    "drive.mount('/content/drive')"
   ]
  },
  {
   "cell_type": "code",
   "execution_count": 2,
   "metadata": {
    "executionInfo": {
     "elapsed": 4351,
     "status": "ok",
     "timestamp": 1684298605672,
     "user": {
      "displayName": "Hongryung Jeon",
      "userId": "09347862182138740427"
     },
     "user_tz": -540
    },
    "id": "ug3PoyWxms9b"
   },
   "outputs": [],
   "source": [
    "import pandas as pd\n",
    "import numpy as np\n",
    "import matplotlib.pyplot as plt\n",
    "\n",
    "from sklearn.preprocessing import StandardScaler\n",
    "from sklearn.neural_network import MLPClassifier\n",
    "from sklearn.metrics import accuracy_score\n",
    "from sklearn.metrics import classification_report\n",
    "from sklearn.model_selection import GridSearchCV\n",
    "from sklearn.metrics import confusion_matrix, ConfusionMatrixDisplay"
   ]
  },
  {
   "cell_type": "code",
   "execution_count": null,
   "metadata": {
    "executionInfo": {
     "elapsed": 4,
     "status": "ok",
     "timestamp": 1684298955401,
     "user": {
      "displayName": "Hongryung Jeon",
      "userId": "09347862182138740427"
     },
     "user_tz": -540
    },
    "id": "Alu5ITUfmtAK"
   },
   "outputs": [],
   "source": [
    "base_path = '/content/drive/MyDrive/Colab_Session-main/Multi-Layer_perceptron/' # Set the folder path where the data files are located\n",
    "train_data_path = base_path + 'molding_train.csv' # Set the file path for train_data.csv\n",
    "test_data_path = base_path + 'molding_test.csv' # Set the file path for test_data.csv"
   ]
  },
  {
   "cell_type": "code",
   "execution_count": 18,
   "metadata": {
    "colab": {
     "base_uri": "https://localhost:8080/"
    },
    "executionInfo": {
     "elapsed": 5,
     "status": "ok",
     "timestamp": 1684298955402,
     "user": {
      "displayName": "Hongryung Jeon",
      "userId": "09347862182138740427"
     },
     "user_tz": -540
    },
    "id": "7QsLB6Y6puUf",
    "outputId": "9d864653-bf41-4d27-e276-f22aecdcb979"
   },
   "outputs": [
    {
     "name": "stdout",
     "output_type": "stream",
     "text": [
      "(880, 24)\n",
      "(880,)\n"
     ]
    }
   ],
   "source": [
    "train = pd.read_csv(train_data_path) # Change the input columns according to your data\n",
    "train = np.array(train) # Change the x_train data as array by numpy\n",
    "\n",
    "x_train = train[:,:-1]\n",
    "y_train = train[:,-1]\n",
    "\n",
    "print(x_train.shape)\n",
    "print(y_train.shape)"
   ]
  },
  {
   "cell_type": "code",
   "execution_count": 19,
   "metadata": {
    "colab": {
     "base_uri": "https://localhost:8080/"
    },
    "executionInfo": {
     "elapsed": 4,
     "status": "ok",
     "timestamp": 1684298955402,
     "user": {
      "displayName": "Hongryung Jeon",
      "userId": "09347862182138740427"
     },
     "user_tz": -540
    },
    "id": "KoyKbKfymtDb",
    "outputId": "7ec9acc0-fa85-43bc-a875-cebc82cb02dd"
   },
   "outputs": [
    {
     "name": "stdout",
     "output_type": "stream",
     "text": [
      "(220, 24)\n",
      "(220,)\n"
     ]
    }
   ],
   "source": [
    "test = pd.read_csv(test_data_path) # Change the input columns according to your data\n",
    "test = np.array(test) # Change the x_train data as array by numpy\n",
    "\n",
    "x_test = test[:,:-1]\n",
    "y_test = test[:,-1]\n",
    "\n",
    "print(x_test.shape)\n",
    "print(y_test.shape)"
   ]
  },
  {
   "cell_type": "code",
   "execution_count": 20,
   "metadata": {
    "executionInfo": {
     "elapsed": 3,
     "status": "ok",
     "timestamp": 1684298955402,
     "user": {
      "displayName": "Hongryung Jeon",
      "userId": "09347862182138740427"
     },
     "user_tz": -540
    },
    "id": "ptX74s1NnjJp"
   },
   "outputs": [],
   "source": [
    "sc=StandardScaler()\n",
    "\n",
    "scaler = sc.fit(x_train)\n",
    "x_train_scaled = scaler.transform(x_train)\n",
    "x_test_scaled = scaler.transform(x_test)"
   ]
  },
  {
   "cell_type": "code",
   "execution_count": 31,
   "metadata": {
    "executionInfo": {
     "elapsed": 4,
     "status": "ok",
     "timestamp": 1684299046214,
     "user": {
      "displayName": "Hongryung Jeon",
      "userId": "09347862182138740427"
     },
     "user_tz": -540
    },
    "id": "XEDdeJb64jR_"
   },
   "outputs": [],
   "source": [
    "mlp_clf = MLPClassifier(hidden_layer_sizes=(10,2),\n",
    "                        batch_size = 32,\n",
    "                        max_iter = 30,\n",
    "                        activation = 'relu',\n",
    "                        solver = 'adam',\n",
    "                        verbose = 1)"
   ]
  },
  {
   "cell_type": "code",
   "execution_count": 32,
   "metadata": {
    "colab": {
     "base_uri": "https://localhost:8080/"
    },
    "executionInfo": {
     "elapsed": 533,
     "status": "ok",
     "timestamp": 1684299046744,
     "user": {
      "displayName": "Hongryung Jeon",
      "userId": "09347862182138740427"
     },
     "user_tz": -540
    },
    "id": "Wt-m2vaN4mZ-",
    "outputId": "cfa7f5e3-8946-4289-c843-f12d2e02fd5a"
   },
   "outputs": [
    {
     "name": "stdout",
     "output_type": "stream",
     "text": [
      "Iteration 1, loss = 0.74483863\n",
      "Iteration 2, loss = 0.72189323\n",
      "Iteration 3, loss = 0.69043501\n",
      "Iteration 4, loss = 0.64560286\n",
      "Iteration 5, loss = 0.58422778\n",
      "Iteration 6, loss = 0.51580971\n",
      "Iteration 7, loss = 0.44995235\n",
      "Iteration 8, loss = 0.39274020\n",
      "Iteration 9, loss = 0.34914370\n",
      "Iteration 10, loss = 0.31407747\n",
      "Iteration 11, loss = 0.28643335\n",
      "Iteration 12, loss = 0.26362959\n",
      "Iteration 13, loss = 0.24660183\n",
      "Iteration 14, loss = 0.23314577\n",
      "Iteration 15, loss = 0.22193580\n",
      "Iteration 16, loss = 0.21290733\n",
      "Iteration 17, loss = 0.20558919\n",
      "Iteration 18, loss = 0.19843134\n",
      "Iteration 19, loss = 0.19148141\n",
      "Iteration 20, loss = 0.18525525\n",
      "Iteration 21, loss = 0.17875278\n",
      "Iteration 22, loss = 0.17026813\n",
      "Iteration 23, loss = 0.16308031\n",
      "Iteration 24, loss = 0.15643476\n",
      "Iteration 25, loss = 0.15068511\n",
      "Iteration 26, loss = 0.14593299\n",
      "Iteration 27, loss = 0.14110708\n",
      "Iteration 28, loss = 0.13642005\n",
      "Iteration 29, loss = 0.13224683\n",
      "Iteration 30, loss = 0.12809008\n"
     ]
    },
    {
     "name": "stderr",
     "output_type": "stream",
     "text": [
      "/usr/local/lib/python3.10/dist-packages/sklearn/neural_network/_multilayer_perceptron.py:686: ConvergenceWarning: Stochastic Optimizer: Maximum iterations (30) reached and the optimization hasn't converged yet.\n",
      "  warnings.warn(\n"
     ]
    }
   ],
   "source": [
    "history = mlp_clf.fit(x_train_scaled, y_train)"
   ]
  },
  {
   "cell_type": "code",
   "execution_count": 33,
   "metadata": {
    "colab": {
     "base_uri": "https://localhost:8080/",
     "height": 474
    },
    "executionInfo": {
     "elapsed": 3,
     "status": "ok",
     "timestamp": 1684299047786,
     "user": {
      "displayName": "Hongryung Jeon",
      "userId": "09347862182138740427"
     },
     "user_tz": -540
    },
    "id": "kEW8lRCkA9oA",
    "outputId": "e023600d-8d70-4d3d-b158-21ef0db8dbd5"
   },
   "outputs": [
    {
     "data": {
      "image/png": "[encoded data removed]",
      "text/plain": [
       "<Figure size 640x480 with 1 Axes>"
      ]
     },
     "metadata": {},
     "output_type": "display_data"
    }
   ],
   "source": [
    "loss_values = mlp_clf.loss_curve_\n",
    "plt.plot(loss_values)\n",
    "\n",
    "plt.title(\"TRAINING EVALUATION\", fontweight = \"bold\", fontsize = 15)\n",
    "plt.xlabel(\"Epochs\")\n",
    "plt.ylabel(\"Loss\")\n",
    "plt.show()"
   ]
  },
  {
   "cell_type": "code",
   "execution_count": 34,
   "metadata": {
    "colab": {
     "base_uri": "https://localhost:8080/"
    },
    "executionInfo": {
     "elapsed": 371,
     "status": "ok",
     "timestamp": 1684299077901,
     "user": {
      "displayName": "Hongryung Jeon",
      "userId": "09347862182138740427"
     },
     "user_tz": -540
    },
    "id": "5Zua3hJd5FeN",
    "outputId": "cb71daf7-553d-45f4-aea5-0fc9bb829511"
   },
   "outputs": [
    {
     "name": "stdout",
     "output_type": "stream",
     "text": [
      "Accuracy: 0.98\n"
     ]
    }
   ],
   "source": [
    "y_pred = mlp_clf.predict(x_test_scaled)\n",
    "\n",
    "print('Accuracy: {:.2f}'.format(accuracy_score(y_test, y_pred)))"
   ]
  },
  {
   "cell_type": "code",
   "execution_count": 35,
   "metadata": {
    "colab": {
     "base_uri": "https://localhost:8080/",
     "height": 449
    },
    "executionInfo": {
     "elapsed": 458,
     "status": "ok",
     "timestamp": 1684299080438,
     "user": {
      "displayName": "Hongryung Jeon",
      "userId": "09347862182138740427"
     },
     "user_tz": -540
    },
    "id": "D36DwCY6qZWm",
    "outputId": "1bd80356-6ec1-42fb-ef19-8cae41064662"
   },
   "outputs": [
    {
     "data": {
      "image/png": "[encoded data removed]",
      "text/plain": [
       "<Figure size 640x480 with 2 Axes>"
      ]
     },
     "metadata": {},
     "output_type": "display_data"
    }
   ],
   "source": [
    "cm = confusion_matrix(y_test, y_pred)\n",
    "disp = ConfusionMatrixDisplay(confusion_matrix=cm,\n",
    "                              display_labels=mlp_clf.classes_)\n",
    "disp.plot()\n",
    "plt.show()"
   ]
  }
 ],
 "metadata": {
  "colab": {
   "authorship_tag": "ABX9TyM59BVh6eeEmD7SA1DKMFVW",
   "provenance": []
  },
  "kernelspec": {
   "display_name": "Python 3",
   "name": "python3"
  },
  "language_info": {
   "name": "python"
  }
 },
 "nbformat": 4,
 "nbformat_minor": 0
}
