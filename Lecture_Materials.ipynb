{
  "nbformat": 4,
  "nbformat_minor": 0,
  "metadata": {
    "colab": {
      "provenance": []
    },
    "kernelspec": {
      "name": "python3",
      "display_name": "Python 3"
    },
    "language_info": {
      "name": "python"
    }
  },
  "cells": [
    {
      "cell_type": "markdown",
      "source": [
        "## Connect to Google Drive"
      ],
      "metadata": {
        "id": "_LySghnFyqko"
      }
    },
    {
      "cell_type": "code",
      "source": [
        "from google.colab import drive\n",
        "drive.mount('/content/drive')"
      ],
      "metadata": {
        "id": "fsUqcrcmt6Hr"
      },
      "execution_count": null,
      "outputs": []
    },
    {
      "cell_type": "markdown",
      "source": [
        "## Backup previous folder"
      ],
      "metadata": {
        "id": "9s9wxNZDxVt5"
      }
    },
    {
      "cell_type": "code",
      "source": [
        "import os\n",
        "import time\n",
        "\n",
        "timestamp = time.strftime('%Y%m%d_%H%M%S')\n",
        "\n",
        "backup_dir = f\"drive/MyDrive/backup/Colab_Session_{timestamp}\"\n",
        "backup_dir_main = f\"drive/MyDrive/backup/Colab_Session-main_{timestamp}\"\n",
        "\n",
        "if not os.path.exists('drive/MyDrive/backup'):\n",
        "    !mkdir drive/MyDrive/backup\n",
        "\n",
        "if os.path.exists('drive/MyDrive/Colab_Session'):\n",
        "    os.rename('drive/MyDrive/Colab_Session', backup_dir)\n",
        "\n",
        "if os.path.exists('drive/MyDrive/Colab_Session-main'):\n",
        "    os.rename('drive/MyDrive/Colab_Session-main', backup_dir_main)"
      ],
      "metadata": {
        "id": "K61iE4TsxHpT"
      },
      "execution_count": null,
      "outputs": []
    },
    {
      "cell_type": "code",
      "source": [
        "if os.path.exists('/content/Colab_Session'):\n",
        "    !rm -rf '/content/Colab_Session'"
      ],
      "metadata": {
        "id": "OEi1U48-xiDa"
      },
      "execution_count": null,
      "outputs": []
    },
    {
      "cell_type": "markdown",
      "source": [
        "## Download lecture materials"
      ],
      "metadata": {
        "id": "znp_SBPQywHC"
      }
    },
    {
      "cell_type": "code",
      "source": [
        "!git clone https://github.com/gong911bh/Colab_Session.git"
      ],
      "metadata": {
        "id": "DqKLOF4GxDgo"
      },
      "execution_count": null,
      "outputs": []
    },
    {
      "cell_type": "markdown",
      "source": [
        "## Upload to the Google Drive"
      ],
      "metadata": {
        "id": "RRXmrG7my3if"
      }
    },
    {
      "cell_type": "code",
      "source": [
        "!cp /content/Colab_Session -r drive/MyDrive/"
      ],
      "metadata": {
        "id": "h4UCS1dO3FXE"
      },
      "execution_count": null,
      "outputs": []
    }
  ]
}