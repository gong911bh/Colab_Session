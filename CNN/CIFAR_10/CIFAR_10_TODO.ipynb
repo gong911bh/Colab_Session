{
  "cells": [
    {
      "cell_type": "markdown",
      "metadata": {
        "id": "ZMfCzvKvHfqc"
      },
      "source": [
        "# CIFAR-10"
      ]
    },
    {
      "cell_type": "markdown",
      "metadata": {
        "id": "BUyvPGGFIjno"
      },
      "source": [
        "## LOAD the dataset"
      ]
    },
    {
      "cell_type": "code",
      "execution_count": null,
      "metadata": {
        "id": "ALXBIF_GHEyR"
      },
      "outputs": [],
      "source": [
        "import numpy as np\n",
        "import cv2\n",
        "from google.colab.patches import cv2_imshow\n",
        "from tensorflow.keras.datasets import cifar10"
      ]
    },
    {
      "cell_type": "code",
      "execution_count": null,
      "metadata": {
        "id": "8sikEOWFIiJ4"
      },
      "outputs": [],
      "source": [
        "data_train, data_test = cifar10.load_data()\n",
        "\n",
        "(images, labels) = data_train\n",
        "\n",
        "(images_train, labels_train) = images[:40000], labels[:40000]\n",
        "(images_validation, labels_validation) = images[40000:], labels[40000:]\n",
        "\n",
        "(images_test, labels_test) = data_test\n",
        "\n",
        "labels = ['Airplane', 'Automobile', 'Bird', 'Cat', 'Deer', 'Dog', 'Frog', 'Horse', 'Ship', 'Truck']\n",
        "n_class = len(labels)"
      ]
    },
    {
      "cell_type": "code",
      "execution_count": null,
      "metadata": {
        "id": "zetbSIzhIiL3"
      },
      "outputs": [],
      "source": [
        "print(images_train.shape)\n",
        "print(labels_train.shape)\n",
        "print(images_validation.shape)\n",
        "print(labels_validation.shape)\n",
        "print(images_test.shape)\n",
        "print(labels_test.shape)"
      ]
    },
    {
      "cell_type": "code",
      "source": [
        "print(labels_test[1])"
      ],
      "metadata": {
        "id": "bZ3IZOxLaY36"
      },
      "execution_count": null,
      "outputs": []
    },
    {
      "cell_type": "code",
      "execution_count": null,
      "metadata": {
        "id": "K8GUlQRMJtKe"
      },
      "outputs": [],
      "source": [
        "for i in range(10):\n",
        "  cv2_imshow(images_train[i])"
      ]
    },
    {
      "cell_type": "markdown",
      "metadata": {
        "id": "R6wjrYxHK2gF"
      },
      "source": [
        "## Create a deep learning model"
      ]
    },
    {
      "cell_type": "code",
      "execution_count": null,
      "metadata": {
        "id": "eZ2kz4pNERCo"
      },
      "outputs": [],
      "source": [
        "# TODO: Implement a CNN model\n",
        "'''\n",
        "train_data: (n_train, 32, 32, 3)\n",
        "train_labels: (n_train, 1)\n",
        "n_class: 10\n",
        "\n",
        "Use the AI chatbot to help you. Build a CNN model for the CIFAR-10 dataset.\n",
        "You don't need an overly large model. You can import whatever you need.\n",
        "'''\n",
        "'''Your code here'''\n"
      ]
    },
    {
      "cell_type": "code",
      "source": [
        "def train_model(model, train_data, train_labels=None, epochs=10, batch_size=32,\n",
        "                criterion=None, optimizer=None, lr=1e-3):\n",
        "    import tensorflow as tf\n",
        "    import torch\n",
        "    from tqdm import tqdm, trange\n",
        "\n",
        "    tf_gpu_available = tf.config.list_physical_devices('GPU')\n",
        "    torch_gpu_available = torch.cuda.is_available()\n",
        "\n",
        "    if isinstance(model, tf.keras.Model):\n",
        "        device = \"GPU\" if tf_gpu_available else \"CPU\"\n",
        "        print(f\"[INFO] Detected TensorFlow model. Using {device}.\")\n",
        "\n",
        "        if optimizer is None:\n",
        "            optimizer = tf.keras.optimizers.Adam(learning_rate=lr)\n",
        "\n",
        "        model.compile(optimizer=optimizer,\n",
        "                      loss='sparse_categorical_crossentropy',\n",
        "                      metrics=['accuracy'])\n",
        "\n",
        "        model.fit(train_data, train_labels, epochs=epochs, batch_size=batch_size)\n",
        "\n",
        "    elif isinstance(model, torch.nn.Module):\n",
        "        device = torch.device(\"cuda\" if torch_gpu_available else \"cpu\")\n",
        "        print(f\"[INFO] Detected PyTorch model. Using {device}.\")\n",
        "        model.to(device)\n",
        "        model.train()\n",
        "\n",
        "        if isinstance(train_data, np.ndarray):\n",
        "            train_data = torch.tensor(train_data, dtype=torch.float32)\n",
        "            if train_data.ndim == 4:\n",
        "                train_data = train_data.permute(0, 3, 1, 2)\n",
        "\n",
        "        if isinstance(train_labels, np.ndarray):\n",
        "            train_labels = torch.tensor(train_labels, dtype=torch.long)\n",
        "        if train_labels.ndim == 2 and train_labels.shape[1] == 1:\n",
        "            train_labels = train_labels.squeeze(1)\n",
        "\n",
        "        from torch.utils.data import TensorDataset, DataLoader\n",
        "        dataset = TensorDataset(train_data, train_labels)\n",
        "        loader = DataLoader(dataset, batch_size=batch_size, shuffle=True)\n",
        "\n",
        "        if optimizer is None:\n",
        "            optimizer = torch.optim.Adam(model.parameters(), lr=lr)\n",
        "        if criterion is None:\n",
        "            criterion = torch.nn.CrossEntropyLoss()\n",
        "\n",
        "        for epoch in range(epochs):\n",
        "            total_loss = 0\n",
        "            for x_batch, y_batch in tqdm(loader, desc='Batch'):\n",
        "                x_batch, y_batch = x_batch.to(device), y_batch.to(device)\n",
        "\n",
        "                optimizer.zero_grad()\n",
        "                outputs = model(x_batch)\n",
        "                loss = criterion(outputs, y_batch)\n",
        "                loss.backward()\n",
        "                optimizer.step()\n",
        "                total_loss += loss.item()\n",
        "\n",
        "            print(f\"Epoch {epoch+1}/{epochs}, Loss: {total_loss:.4f}\")\n",
        "\n",
        "    else:\n",
        "        raise TypeError(\"Check the model type!\")\n"
      ],
      "metadata": {
        "id": "9BMFnddHFiUA"
      },
      "execution_count": null,
      "outputs": []
    },
    {
      "cell_type": "code",
      "execution_count": null,
      "metadata": {
        "id": "z2J0N5PoNcxu"
      },
      "outputs": [],
      "source": [
        "train_model(model, images_train, labels_train, epochs=5, batch_size=64, lr=0.001)"
      ]
    },
    {
      "cell_type": "markdown",
      "metadata": {
        "id": "mCiDvVJTPGvH"
      },
      "source": [
        "## Train"
      ]
    },
    {
      "cell_type": "markdown",
      "metadata": {
        "id": "NVuy42eEPWsF"
      },
      "source": [
        "## Test"
      ]
    },
    {
      "cell_type": "code",
      "source": [
        "def predict_model(model, input_data):\n",
        "    import tensorflow as tf\n",
        "    import torch\n",
        "    import numpy as np\n",
        "\n",
        "    if isinstance(model, tf.keras.Model):\n",
        "        return model.predict(input_data)\n",
        "\n",
        "    elif isinstance(model, torch.nn.Module):\n",
        "        device = torch.device(\"cuda\" if torch.cuda.is_available() else \"cpu\")\n",
        "        model.eval()\n",
        "        model.to(device)\n",
        "\n",
        "        if isinstance(input_data, np.ndarray):\n",
        "            input_tensor = torch.from_numpy(input_data).float()\n",
        "\n",
        "            if input_tensor.ndim == 4 and input_tensor.shape[3] == 3:\n",
        "                input_tensor = input_tensor.permute(0, 3, 1, 2)\n",
        "            elif input_tensor.ndim == 3 and input_tensor.shape[2] == 3:\n",
        "                input_tensor = input_tensor.permute(2, 0, 1).unsqueeze(0)\n",
        "\n",
        "        else:\n",
        "            input_tensor = input_data\n",
        "\n",
        "        if input_tensor.ndim == 3:\n",
        "            input_tensor = input_tensor.unsqueeze(0)\n",
        "\n",
        "        input_tensor = input_tensor.to(device)\n",
        "\n",
        "        with torch.no_grad():\n",
        "            output = model(input_tensor)\n",
        "            output = torch.softmax(output, dim=1)\n",
        "\n",
        "        return output.cpu().numpy()\n",
        "\n",
        "    else:\n",
        "        raise TypeError(\"Check the model type!\")"
      ],
      "metadata": {
        "id": "_AP9ghW4RwhI"
      },
      "execution_count": null,
      "outputs": []
    },
    {
      "cell_type": "code",
      "execution_count": null,
      "metadata": {
        "id": "d2zspy13Qhrk"
      },
      "outputs": [],
      "source": [
        "test_ind = 0 # 0~9999\n",
        "\n",
        "result = predict_model(model, images_test[test_ind].reshape(1, 32, 32, 3))\n",
        "\n",
        "print(\"Truth: \" + labels[int(labels_test[test_ind])] + \" / Pred: \"+ labels[np.argmax(result)])\n",
        "img = cv2.resize(images_test[test_ind]*255, (80, 80))\n",
        "cv2_imshow(img)"
      ]
    },
    {
      "cell_type": "code",
      "source": [
        "def evaluate_model(model, test_data, test_labels, criterion=None):\n",
        "    import tensorflow as tf\n",
        "    import torch\n",
        "    import numpy as np\n",
        "\n",
        "    if isinstance(model, tf.keras.Model):\n",
        "        print(\"[INFO] Evaluating TensorFlow model...\")\n",
        "        return model.evaluate(test_data, test_labels, verbose=0)\n",
        "\n",
        "    elif isinstance(model, torch.nn.Module):\n",
        "        device = torch.device(\"cuda\" if torch.cuda.is_available() else \"cpu\")\n",
        "        model.to(device)\n",
        "        model.eval()\n",
        "\n",
        "        if isinstance(test_data, np.ndarray):\n",
        "            x_tensor = torch.from_numpy(test_data).float()\n",
        "\n",
        "            if x_tensor.ndim == 4 and x_tensor.shape[3] == 3:\n",
        "                x_tensor = x_tensor.permute(0, 3, 1, 2)\n",
        "        else:\n",
        "            x_tensor = test_data\n",
        "\n",
        "        if isinstance(test_labels, np.ndarray):\n",
        "            y_tensor = torch.from_numpy(test_labels).long()\n",
        "        else:\n",
        "            y_tensor = test_labels\n",
        "\n",
        "        if y_tensor.ndim == 2 and y_tensor.shape[1] == 1:\n",
        "            y_tensor = y_tensor.squeeze(1)\n",
        "\n",
        "        x_tensor, y_tensor = x_tensor.to(device), y_tensor.to(device)\n",
        "\n",
        "        if criterion is None:\n",
        "            criterion = torch.nn.CrossEntropyLoss()\n",
        "\n",
        "        with torch.no_grad():\n",
        "            outputs = model(x_tensor)\n",
        "            loss = criterion(outputs, y_tensor)\n",
        "            preds = torch.argmax(outputs, dim=1)\n",
        "            accuracy = (preds == y_tensor).float().mean().item()\n",
        "\n",
        "        return loss.item(), accuracy\n",
        "\n",
        "    else:\n",
        "        raise TypeError(\"Check the model type!\")"
      ],
      "metadata": {
        "id": "Bmj68HyqSMa_"
      },
      "execution_count": null,
      "outputs": []
    },
    {
      "cell_type": "code",
      "execution_count": null,
      "metadata": {
        "id": "w-fkq-Ak7vGG"
      },
      "outputs": [],
      "source": [
        "test_loss, test_acc = evaluate_model(model, images_test, labels_test)\n",
        "print('test accuracy: {:.4f}'.format(test_acc))"
      ]
    }
  ],
  "metadata": {
    "colab": {
      "provenance": []
    },
    "kernelspec": {
      "display_name": "Python 3",
      "name": "python3"
    },
    "language_info": {
      "codemirror_mode": {
        "name": "ipython",
        "version": 3
      },
      "file_extension": ".py",
      "mimetype": "text/x-python",
      "name": "python",
      "nbconvert_exporter": "python",
      "pygments_lexer": "ipython3",
      "version": "3.12.8"
    }
  },
  "nbformat": 4,
  "nbformat_minor": 0
}
