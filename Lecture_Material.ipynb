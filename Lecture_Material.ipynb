{
  "nbformat": 4,
  "nbformat_minor": 0,
  "metadata": {
    "colab": {
      "provenance": []
    },
    "kernelspec": {
      "name": "python3",
      "display_name": "Python 3"
    },
    "language_info": {
      "name": "python"
    }
  },
  "cells": [
    {
      "cell_type": "markdown",
      "source": [
        "## Connect to Google Drive"
      ],
      "metadata": {
        "id": "_LySghnFyqko"
      }
    },
    {
      "cell_type": "code",
      "source": [
        "from google.colab import drive\n",
        "drive.mount('/content/drive')"
      ],
      "metadata": {
        "id": "fsUqcrcmt6Hr"
      },
      "execution_count": null,
      "outputs": []
    },
    {
      "cell_type": "markdown",
      "source": [
        "## Choose what you want to do.\n",
        "\n",
        "If you want to delete previous codes, files and folders, run this code. Run this code to delete them. Run the first code. If you don't want to delete previous codes, files and folders, then don't run this code. Run the second code to back them up."
      ],
      "metadata": {
        "id": "9s9wxNZDxVt5"
      }
    },
    {
      "cell_type": "code",
      "source": [
        "import os\n",
        "\n",
        "if os.path.exists('drive/MyDrive/Colab_Session'):\n",
        "    !rm -rf drive/MyDrive/Colab_Session\n",
        "if os.path.exists('drive/MyDrive/Colab_Session-main'):\n",
        "    !rm -rf drive/MyDrive/Colab_Session-main"
      ],
      "metadata": {
        "colab": {
          "base_uri": "https://localhost:8080/"
        },
        "id": "0V7muh9g26sZ",
        "outputId": "6b1689ec-2de8-44ee-e543-ee4357ca869a"
      },
      "execution_count": 14,
      "outputs": [
        {
          "output_type": "stream",
          "name": "stdout",
          "text": [
            "fatal: destination path 'Colab_Session' already exists and is not an empty directory.\n"
          ]
        }
      ]
    },
    {
      "cell_type": "code",
      "source": [
        "import os\n",
        "\n",
        "if os.path.exists('drive/MyDrive/Colab_Session'):\n",
        "    !cp -r drive/MyDrive/Colab_Session drive/MyDrive/backup/Colab_Session\n",
        "if os.path.exists('drive/MyDrive/Colab_Session-main'):\n",
        "    !cp -r drive/MyDrive/Colab_Session-main drive/MyDrive/backup/Colab_Session-main"
      ],
      "metadata": {
        "id": "K61iE4TsxHpT"
      },
      "execution_count": null,
      "outputs": []
    },
    {
      "cell_type": "markdown",
      "source": [
        "## Download lecture materials"
      ],
      "metadata": {
        "id": "znp_SBPQywHC"
      }
    },
    {
      "cell_type": "code",
      "source": [
        "!git clone https://github.com/gong911bh/Colab_Session.git"
      ],
      "metadata": {
        "id": "DqKLOF4GxDgo"
      },
      "execution_count": null,
      "outputs": []
    },
    {
      "cell_type": "markdown",
      "source": [
        "## Upload to the Google Drive"
      ],
      "metadata": {
        "id": "RRXmrG7my3if"
      }
    },
    {
      "cell_type": "code",
      "source": [
        "!cp /content/Colab_Session -r drive/MyDrive/"
      ],
      "metadata": {
        "id": "h4UCS1dO3FXE"
      },
      "execution_count": 16,
      "outputs": []
    }
  ]
}