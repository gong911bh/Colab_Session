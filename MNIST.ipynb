{
  "cells": [
    {
      "cell_type": "markdown",
      "id": "3ad28602",
      "metadata": {
        "id": "3ad28602"
      },
      "source": [
        "## MNIST"
      ]
    },
    {
      "cell_type": "markdown",
      "id": "347fb617",
      "metadata": {
        "id": "347fb617"
      },
      "source": [
        "### LOAD the dataset"
      ]
    },
    {
      "cell_type": "code",
      "execution_count": null,
      "id": "b40985aa",
      "metadata": {
        "id": "b40985aa"
      },
      "outputs": [],
      "source": [
        "import numpy as np\n",
        "import tensorflow as tf\n",
        "import matplotlib.pyplot as plt\n",
        "import cv2\n",
        "from google.colab.patches import cv2_imshow"
      ]
    },
    {
      "cell_type": "code",
      "execution_count": null,
      "id": "c75cb6a5",
      "metadata": {
        "id": "c75cb6a5"
      },
      "outputs": [],
      "source": [
        "data_train, data_test = tf.keras.datasets.mnist.load_data()\n",
        "\n",
        "(images_train, labels_train) = data_test\n",
        "(images_test, labels_test) = data_test"
      ]
    },
    {
      "cell_type": "code",
      "execution_count": null,
      "id": "389b4cd6",
      "metadata": {
        "id": "389b4cd6"
      },
      "outputs": [],
      "source": [
        "print(\"Training data shape:\", images_train.shape)\n",
        "print(\"Training labels shape:\", labels_train.shape)\n",
        "print(\"Testing data shape:\", images_test.shape)\n",
        "print(\"Testing labels shape:\", labels_test.shape)"
      ]
    },
    {
      "cell_type": "code",
      "execution_count": null,
      "id": "0d7a463c",
      "metadata": {
        "id": "0d7a463c"
      },
      "outputs": [],
      "source": [
        "cv2_imshow(images_train[0])"
      ]
    },
    {
      "cell_type": "code",
      "execution_count": null,
      "id": "003fafba",
      "metadata": {
        "id": "003fafba"
      },
      "outputs": [],
      "source": [
        "img = cv2.resize(images_train[0], (140, 140))\n",
        "cv2_imshow(img)"
      ]
    },
    {
      "cell_type": "code",
      "execution_count": null,
      "id": "4a074630",
      "metadata": {
        "id": "4a074630"
      },
      "outputs": [],
      "source": [
        "labels_train[0]"
      ]
    },
    {
      "cell_type": "code",
      "execution_count": null,
      "id": "e25ed309",
      "metadata": {
        "id": "e25ed309"
      },
      "outputs": [],
      "source": [
        "images_train[0]"
      ]
    },
    {
      "cell_type": "code",
      "execution_count": null,
      "id": "2ac25ea4",
      "metadata": {
        "id": "2ac25ea4"
      },
      "outputs": [],
      "source": [
        "import sys\n",
        "for img in images_train[0]:\n",
        "\tfor i in img:\n",
        "\t\tsys.stdout.write('%d\\t' % i)\n",
        "\tsys.stdout.write('\\n')"
      ]
    },
    {
      "cell_type": "markdown",
      "id": "2a143ea4",
      "metadata": {
        "id": "2a143ea4"
      },
      "source": [
        "##Train"
      ]
    },
    {
      "cell_type": "code",
      "execution_count": null,
      "id": "47f65a80",
      "metadata": {
        "id": "47f65a80"
      },
      "outputs": [],
      "source": [
        "model = tf.keras.models.Sequential([\n",
        "    tf.keras.layers.Flatten(input_shape=(28, 28)),\n",
        "\ttf.keras.layers.Dense(512, activation=tf.nn.relu),\n",
        "\ttf.keras.layers.Dense(10, activation=tf.nn.softmax)\n",
        "])\n",
        "\n",
        "model.summary()"
      ]
    },
    {
      "cell_type": "code",
      "execution_count": null,
      "id": "e018029c",
      "metadata": {
        "id": "e018029c"
      },
      "outputs": [],
      "source": [
        "model.compile(optimizer='adam',\n",
        "              loss='sparse_categorical_crossentropy',\n",
        "\t\t\t  metrics=['accuracy'])"
      ]
    },
    {
      "cell_type": "code",
      "execution_count": null,
      "id": "53eded17",
      "metadata": {
        "id": "53eded17"
      },
      "outputs": [],
      "source": [
        "hisstory = model.fit(images_train, labels_train, epochs=10, batch_size=32)"
      ]
    },
    {
      "cell_type": "markdown",
      "id": "deb4e25a",
      "metadata": {
        "id": "deb4e25a"
      },
      "source": [
        "## Test"
      ]
    },
    {
      "cell_type": "code",
      "execution_count": null,
      "id": "6d8efd5f",
      "metadata": {
        "id": "6d8efd5f"
      },
      "outputs": [],
      "source": [
        "images_test = images_test.astype(float) / 255.0"
      ]
    },
    {
      "cell_type": "code",
      "execution_count": null,
      "id": "f0d9bbe1",
      "metadata": {
        "id": "f0d9bbe1"
      },
      "outputs": [],
      "source": [
        "img = cv2.resize(images_test[0]*255, (140, 140))\n",
        "cv2_imshow(img)\n",
        "result = model.predict(images_test[0].reshape(1, 28, 28))\n",
        "np.argmax(result)"
      ]
    },
    {
      "cell_type": "code",
      "execution_count": null,
      "id": "59b53652",
      "metadata": {
        "id": "59b53652"
      },
      "outputs": [],
      "source": [
        "img = cv2.resize(images_test[100]*255, (140, 140))\n",
        "cv2_imshow(img)\n",
        "result = model.predict(images_test[100].reshape(1, 28, 28))\n",
        "np.argmax(result)"
      ]
    },
    {
      "cell_type": "code",
      "execution_count": null,
      "id": "e56acf8f",
      "metadata": {
        "id": "e56acf8f"
      },
      "outputs": [],
      "source": [
        "test_loss, test_acc = model.evaluate(images_test, labels_test)\n",
        "print(\"Test accuracy: %.4f\" % test_acc)"
      ]
    }
  ],
  "metadata": {
    "language_info": {
      "name": "python"
    },
    "colab": {
      "provenance": [],
      "gpuType": "T4"
    },
    "accelerator": "GPU",
    "kernelspec": {
      "name": "python3",
      "display_name": "Python 3"
    }
  },
  "nbformat": 4,
  "nbformat_minor": 5
}